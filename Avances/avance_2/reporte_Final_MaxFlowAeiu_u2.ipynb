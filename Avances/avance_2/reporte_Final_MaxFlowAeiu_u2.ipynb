{
 "cells": [
  {
   "cell_type": "markdown",
   "id": "7465f52f-819f-4852-b2cb-27c55262f4b7",
   "metadata": {},
   "source": [
    "# Implementación del algoritmo de Ford Fulkerson para el problema de Flujo Máximo en Redes \n",
    "## Reporte Final, Junio 2022\n",
    "### **Instituto Tecnológico Autónomo de México**\n",
    "\n",
    "Autores:\n",
    "\n",
    "+ Bazo Edgar\n",
    "+ Hernández Luz\n",
    "+ Rangel Uriel\n",
    "+ Santiago Ita\n",
    "\n",
    "---"
   ]
  },
  {
   "cell_type": "markdown",
   "id": "85183c0b",
   "metadata": {},
   "source": [
    "# 1. Introducción\n",
    "**nota Luz** Modificar la intro\n",
    "\n",
    "El presente reporte contiene el resumen del proyecto realizado durante el semestre de la materia de Optimización II (primavera 2022) que consistió en realizar la implementación de un algritmo que resuelve un problema de optimización numérica. Esto ha sido de gran utilidad y aprendizaje para nosotros debido a que los problemas de optimización númerica se presentan en una gran cantidad de aplicaciones que podemos encontrar en las áreas de Estadística, Ingeniería, Finanzas, Aprendizaje de Máquina, entre otras ([Palacios Erick, 2021](https://itam-ds.github.io/analisis-numerico-computo-cientifico/README.html)).\n",
    "\n",
    "---"
   ]
  },
  {
   "cell_type": "markdown",
   "id": "d51c7fb1-60bc-4320-81f6-0952fc748309",
   "metadata": {},
   "source": [
    "# 2. Conceptos y Definiciones\n",
    "\n",
    "## Problema de Optimización\n",
    "\n",
    "Nos propusimos a resolver un problema de optimización de flujo máximo, en el que tenemos un nodo inicial llamado fuente hacia un nodo terminal que llamaremos sumidero. El objetivo consiste en encontrar el camino en el que se maximice el flujo de todos los arcos del grafo.\n",
    "\n",
    "Podemos resolver este problema usando varios métodos, por ejemplo el Algoritmo Naive Greedy o, el que usaremos, el Algoritmo de Ford Fulkerson.\n",
    "\n",
    "La maximización de flujos es uno de los problemas clásicos de la Investigación de Operaciones, la cual, como vimos en clase, proviene de actividades bélicas.\n",
    "\n",
    "Los modelos de redes nos ayudan a visualizar el problema y a tomar una decisión basada en la optimalidad de nuestro algoritmo, lo que podría mejorar o dar mayor aprovechamiento a los arcos acorde a su capacidad, podríamos crear nuevas vialidades y deshacernos de las que no se aprovechan bien. Al maximizar el flujo, podemos maximizar también los recursos.\n",
    "\n",
    "## Problema del flujo máximo\n",
    "\n",
    "Este tipo de problemas (Problema del Flujo Máximo) busca determinar el flujo máximo entre un nodo fuente y un nodo destino, los cuales están enlazados a través de una red, con arcos que tienen capacidad finita.\n",
    "\n",
    "Desde el punto de vista de la programación lineal, podemos plantear la situación de la siguiente forma:\n",
    "\n",
    "#### Variables de Decisión:\n",
    "\n",
    "$$x_{ij}: unidades - que - fluyen - desde - el - nodo - i - al - j$$\n",
    "\n",
    "#### Función Objetivo: \n",
    "\n",
    "Maximizar las unidades que salen del nodo de origen o fuente (s) a los que éste conecta (j, k, l,...) o alternativamente maximizar las unidades que llegan al nodo de destino o sumidero (t) desde los que conectan a él.\n",
    "\n",
    "#### Restricciones:\n",
    "\n",
    "+ **De Flujo Máximo**: La cantidad de unidades que sale de cada nodo de origen a un nodo de destino no puede superar la capacidad detallada en el arco, por ejemplo, del nodo 1 al nodo 2 sólo se pueden enviar 7 unidades.\n",
    "\n",
    "+ **De Balance de Flujo en los Nodos**: Debe existir un equilibrio entre la cantidad de unidades que llega a un nodo y las que de éste salen.\n",
    "\n",
    "+ **De No Negatividad e Integralidad**: Las variables de decisión deben cumplir las condiciones de no negatividad. Adicionalmente exigiremos que éstas adopten valores enteros aún cuando se podría flexibilizar dicha situación lo que daría origen a un problema de Programación Lineal.\n",
    "\n",
    "## Teorema de Ford Fulkerson\n",
    "\n",
    "_En cualquier red, el flujo máximo que fluye de la fuente al destino es igual a la capacidad del corte mínimo que separa a la fuente del destino_.\n",
    "\n",
    "Esto quiere decir que el algoritmo concluye cuando el flujo máximo es devuelto y su costo depende del costo de cada iteración y del número de estas.\n",
    "\n",
    "## Algoritmo de Ford Fulkerson\n",
    "\n",
    "Lo que se propone con el algoritmo de Ford-Fulkerson es buscar caminos en los que se pueda aumentar el flujo, hasta que se alcance el flujo máximo o el camino con la capacidad máxima de los arcos. Los creadores de este algoritmo son: L. R. Ford, Jr. y D. R. Fulkerson. La idea es encontrar una ruta de penetración con un flujo positivo neto que una los nodos origen y destino.\n",
    "\n",
    "Una red de flujo es un grafo dirigido $G (V,E)$ donde cada arco $(u,v)$ perteneciente a $E$ tiene una capacidad no negativa. \n",
    "\n",
    "Se distinguen dos nodos: \n",
    "* la fuente o nodo s,\n",
    "* y el sumidero o nodo t\n",
    "\n",
    "Si existen múltiples fuentes y sumideros, el problema se puede simplificar añadiendo una fuente común y un sumidero común.\n",
    "\n",
    "La idea que motiva a este algoritmo es la siguiente: siempre que haya una ruta desde la fuente (nodo de inicio) hasta el sumidero (nodo final), con capacidad disponible en todos los bordes de la ruta, enviamos flujo a lo largo de una de las rutas. Luego encontramos otro camino y así sucesivamente hasta agotar todos los caminos por los que podríamos pasar. Un camino con capacidad disponible se llama camino de aumento.\n",
    "Después de cada paso del algoritmo, debemos mantener:\n",
    "\n",
    "| Nombre | Regla | Interpretación |\n",
    "| --- | --- | --- |\n",
    "| Limitaciones de capacidad | $$\\forall{(u, v)} \\in E : f (u, v) \\leq c(u, v)$$ | El flujo a lo largo de un borde no puede exceder su capacidad. |\n",
    "| Simetría sesgada | $$\\forall{(u, v)} \\in E : f (u, v) = - f (u, v)$$ | El flujo neto de $u$ a $v$ debe ser el opuesto al flujo neto de $v$ a $u$. |\n",
    "| Conservación de flujo | $$\\forall u  \\in V: u  \\neq s \\cap u  \\neq t  \\Rightarrow  \\sum _ {w  \\in V} f (u, w) = 0$$ | El flujo neto a un nodo es cero, excepto para la fuente, que \"produce\" flujo, y el sumidero, que \"consume\" flujo. |\n",
    "| Valor(f) | $$ \\sum _ {(s, u) \\in E} f (s, u) =  \\sum _ {(v, t)  \\in E} f (v, t)$$ | El flujo que sale de s debe ser igual al flujo que llega a t. |\n",
    "\n",
    "### Pseudo-algoritmo\n",
    "\n",
    "```\n",
    "def nuestro_alg_FF(G,s,t){\n",
    "  \"\"\"\n",
    "  Entries: \n",
    "      red G=(V,E), \n",
    "      capacidad del flujo c,\n",
    "      nodo receptor o fuente s,\n",
    "      nodo sumidero t,\n",
    "  \"\"\"\n",
    "  G_res = grafo_residual(G);\n",
    "  for ((u_i,v_i) de E) {\n",
    "      f[u_i,v_i]= 0; #para todo i\n",
    "  }\n",
    "  while (mientras exista alguna ruta p desde s a t en el grafo residual G_res) {\n",
    "      c_f(p) = min{c_f(u,v): (u,v) está en p};\n",
    "      for (cada arista (u,v) en p) {\n",
    "          f[u,v]= f[u,v] + cf(p);\n",
    "          f[v,u]= f[v,u] - cf(p); #el flujo puede devolverse despues\n",
    "      }\n",
    "      Actualizar_grafo_residual(G_res);\n",
    "  }\n",
    "\n",
    "}\n",
    "```"
   ]
  },
  {
   "cell_type": "markdown",
   "id": "9a38d034-276d-477e-b6fb-9d41b2860c36",
   "metadata": {},
   "source": [
    "## Ejemplificación del algoritmo\n",
    "\n",
    "Supongamos que iniciamos con un grafo para ejemplificar nuestro algoritmo:\n",
    "\n",
    "<p align = \"center\">\n",
    "    <img src=\"../../images/ff1.webp\" width=\"443\" height=\"304\" />\n",
    "\n",
    "Notemos que de inicio todos los flujos están en cero.\n",
    "\n",
    "### Pasos:\n",
    "\n",
    "* 1. Seleccionar cualquier ruta arbitraria de S a T. En este paso, hemos seleccionado la ruta S-A-B-T.\n",
    "\n",
    "<p align = \"center\">\n",
    "    <img src=\"../../images/ff2.webp\" width=\"443\" height=\"304\" />\n",
    "\n",
    "La capacidad mínima entre los tres bordes es 2 (B-T). En base a esto, se actualiza el flujo/capacidad para cada ruta.\n",
    "\n",
    "<p align = \"center\">\n",
    "    <img src=\"../../images/ff3.webp\" width=\"443\" height=\"304\" />\n",
    "\n",
    "* 2. Seleccionar otra ruta S-D-C-T. La capacidad mínima entre estos bordes es 3 (S-D).\n",
    "\n",
    "<p align = \"center\">\n",
    "    <img src=\"../../images/ff4.webp\" width=\"443\" height=\"304\" />\n",
    "\n",
    "Actualizar las capacidades de acuerdo con esto.\n",
    "\n",
    "<p align = \"center\">\n",
    "    <img src=\"../../images/ff5.webp\" width=\"443\" height=\"304\" />\n",
    "\n",
    "* 3. Ahora, consideremos también el camino inverso B-D. Selección de ruta S-A-B-D-C-T. La capacidad residual mínima entre los bordes es 1 (D-C).\n",
    "\n",
    "<p align = \"center\">\n",
    "    <img src=\"../../images/ff6.webp\" width=\"443\" height=\"304\" />\n",
    "\n",
    "Actualización de las capacidades.\n",
    "\n",
    "<p align = \"center\">\n",
    "    <img src=\"../../images/ff7.webp\" width=\"443\" height=\"304\" />\n",
    "\n",
    "La capacidad de los caminos directo e inverso se consideran por separado.\n",
    "\n",
    "* 4. Sumando todos los flujos = 2 + 3 + 1 = 6, que es el flujo máximo posible en la red de flujo.\n",
    "\n",
    "**Nota** Tenga en cuenta que si la capacidad de cualquier borde está llena, entonces esa ruta no se puede usar."
   ]
  },
  {
   "cell_type": "markdown",
   "id": "c773cd8a",
   "metadata": {},
   "source": [
    "# 3. Implementación\n",
    "\n",
    "En esta sección del reporte se presenta el desarrollo que tuvimos para hacer la implementación (primera versión) del algoritmo de **Ford Fulkerson** para resolver el problema de flujo máximo en redes y se muestran algunos resultados obtenidos tras su implementación.\n",
    "\n",
    "Realizamos el algoritmo basados en otro llamado [\"Búsqueda en anchura (Breadth-first search)\"](https://es.wikipedia.org/wiki/B%C3%BAsqueda_en_anchura). Formalmente, se trata de un algoritmo de búsqueda sin información, que expande y examina todos los nodos de un árbol sistemáticamente para buscar una solución. El algoritmo no usa ninguna estrategia heurística.\n",
    "\n",
    "El procedimiento anterior se da como:\n",
    "\n",
    "* Dado un vértice fuente s, _Breadth-first search_ sistemáticamente explora los vértices del grafo G para “descubrir” todos los vértices alcanzables desde s, \n",
    "\n",
    "* Calcula la distancia (menor número de vértices) desde s a todos los vértices alcanzables.\n",
    "\n",
    "* Después produce un árbol BF con raíz en s y que contiene a todos los vértices alcanzables.\n",
    "\n",
    "* El camino desde s a cada vértice en este recorrido contiene el mínimo número de vértices. Es el camino más corto medido en número de vértices.\n",
    "\n",
    "* Su nombre se debe a que expande uniformemente la frontera entre lo descubierto y lo no descubierto. Llega a los nodos de distancia k, sólo tras haber llegado a todos los nodos a distancia k-1.\n"
   ]
  },
  {
   "cell_type": "markdown",
   "id": "c1f120d7",
   "metadata": {},
   "source": [
    "## Desarrollo del Algoritmo (1a Versión)\n"
   ]
  },
  {
   "cell_type": "markdown",
   "id": "3cca970d",
   "metadata": {},
   "source": []
  },
  {
   "cell_type": "markdown",
   "id": "c00d3ec0",
   "metadata": {},
   "source": []
  },
  {
   "cell_type": "markdown",
   "id": "fe62756c",
   "metadata": {},
   "source": []
  },
  {
   "cell_type": "markdown",
   "id": "53f61637",
   "metadata": {},
   "source": []
  },
  {
   "cell_type": "markdown",
   "id": "4e43568b",
   "metadata": {},
   "source": [
    "> **Nota para Edgar:**  Agregar en estas celdas lo que consideres para la sección del Desarrollo del Algoritmo\n",
    "\n",
    "Hints:\n",
    "\n",
    "+ Estructura de la o las funciones\n",
    "+ Ligas al código\n",
    "+ Implementación en PyPi\n",
    "+ Ejemplo de ejecución\n",
    "+ Cosas importantes a considerara por ejemplo de los nodos fuente y sumidero (primera columna y última fila de 0s)\n",
    "\n",
    "---"
   ]
  },
  {
   "cell_type": "markdown",
   "id": "9190cb43",
   "metadata": {},
   "source": [
    "## Uso del algoritmo\n",
    "\n",
    "Para probar el correcto funcionamiento del algoritmo implementado en el paquete `MaxFlowAeiu` hicimos pruebas en diferentes redes, las cuales se pueden observar en los reportes de la práctica 1 (segunda parte) y de la práctica 2 (primera parte). En este trabajo final solo hablaremos del ejemplo aplicado a resolver un problema de [sistemas eléctricos de potencia](https://es.wikipedia.org/wiki/Sistema_el%C3%A9ctrico_de_potencia).\n",
    "\n",
    "### Descripción del problema a resolver\n",
    "\n",
    "**La base de datos** que se utilizará para probar el paquete implementado por el equipo corresponde a una representación simplificada de la Red Eléctrica Mexicana, que se utiliza para realizar la planeación del sistema nacional de generación, transmisión y distribución de energía eléctrica.\n",
    "\n",
    "La información a la que se tuvo acceso proviene del Centro Nacional de Control de Energía ([CENACE](https://www.gob.mx/cenace)) y su publicación se realiza de forma anual en los Programas de Ampliación y Modernización de la Red Nacional de Transmisión y Redes Generales de Distribución ([ver documento PAMRNT](https://www.cenace.gob.mx/Docs/10_PLANEACION/ProgramasAyM/Programa%20de%20Ampliaci%C3%B3n%20y%20Modernizaci%C3%B3n%20de%20la%20RNT%20y%20RGD%202021%20-%202035.pdf)).\n",
    "\n",
    "En la Figura 4.3.2 de ese documento, se muestra la topología que tiene la red que representa las regiones o zonas más representativas (en cuanto a demanda y generación de energía eléctrica o bien por cuestiones de ubicación geográfica), así como su conectividad. Adicionalmente, cada uno de los arcos (ramas) tiene una capacidad definida de transmisión de energía, comunmente llamada _límite de transmisión entre regiones_.\n",
    "\n",
    "<p align = \"center\">\n",
    "    <img src=\"../../images/red_nacional.png\" width=\"1329\" height=\"911\" />\n",
    "\n",
    "        fuente: Elaborado por CENACE\n",
    "\n",
    "El grafo que observamos es de tipo \"no-dirigido\", porque en una red eléctrica el sentido del [flujo de potencia](https://es.wikipedia.org/wiki/Flujo_de_potencia) (energía) puede darse en cualquier sentido y está determinado por la solución que se obtenga de la [formulación del problema](https://www.intechopen.com/chapters/65445) (Power Flow Analysis). Sin embargo, para el ejercicio que realizamos en esta práctica, partimos de una suposición de sentido en los flujos de potencia basada en las condiciones que predominan en la red eléctrica y que se reportan en el PAMRNT (en la sección: _Condiciones operativas en las transferencias de potencia en los principales enlaces del Sistema Eléctrico Nacional en la demanda máxima de verano de 2020_).\n",
    "\n",
    "Las direcciones de los flujos que se identificaron se dibujaron sobre la misma figura para poder visualizar el sentido del flujo que quisimos representar y con eso calcular el flujo máximo que puede transmitirse del nodo 1 (en el norte de Sonora) hasta el nodo 44 (en la ciudad de México), pasando por toda la red interconectada del país.\n",
    "\n",
    "<p align = \"center\">\n",
    "    <img src=\"../../images/red_dirigida.png\" width=\"1329\" height=\"911\" />\n",
    "\n",
    "        fuente: Elaborado por CENACE, con anotaciones hechas por nosotros\n",
    "\n",
    "\n",
    "**El Planteamiento** del problema que se pretende resolver es el siguiente: \"Dada la red eléctrica de la Figura 4.3.2 encontrar flujo máximo que se puede transmitir en la red desde un nodo fuente (de gran concentración de generación de electricidad) hasta un nodo sumidero (ubicado en uno de los centros de mayor consumo de electricidad del país)\". Al respecto, en este proyecto buscamos responder la siguiente pregunta:\n",
    "\n",
    "**¿Para qué puede servir encontrar el flujo máximo en la red eléctrica?**\n",
    "\n",
    "- Para determinar los posibles cuellos de botella (restricciones) que se pueden presentar al tratar de enviar energía desde un punto de la red a otro.\n",
    "- Encontrar posibles puntos de inyección donde resulte más conveniente instalar generación (que se obtengan mayores flujos máximos por la red).\n",
    "- Descubrir cuales corredores de trasnmisión (rutas) se ven más utilizadas cuando la inyección de energía se presenta en algún punto de la red.\n",
    "\n",
    "#### Lectura y limpieza de la Base de Datos\n",
    "\n",
    "La base de datos tiene el siguiente contenido y forma:"
   ]
  },
  {
   "cell_type": "code",
   "execution_count": 1,
   "id": "121ce32c-4423-4e40-a924-8e197463e6c9",
   "metadata": {},
   "outputs": [
    {
     "data": {
      "text/html": [
       "<div>\n",
       "<style scoped>\n",
       "    .dataframe tbody tr th:only-of-type {\n",
       "        vertical-align: middle;\n",
       "    }\n",
       "\n",
       "    .dataframe tbody tr th {\n",
       "        vertical-align: top;\n",
       "    }\n",
       "\n",
       "    .dataframe thead th {\n",
       "        text-align: right;\n",
       "    }\n",
       "</style>\n",
       "<table border=\"1\" class=\"dataframe\">\n",
       "  <thead>\n",
       "    <tr style=\"text-align: right;\">\n",
       "      <th></th>\n",
       "      <th>Num_env</th>\n",
       "      <th>Nom_env</th>\n",
       "      <th>Num_rec</th>\n",
       "      <th>Nom_rec</th>\n",
       "      <th>Enlace</th>\n",
       "      <th>Periodo</th>\n",
       "      <th>Cap</th>\n",
       "      <th>Real</th>\n",
       "      <th>Img</th>\n",
       "    </tr>\n",
       "  </thead>\n",
       "  <tbody>\n",
       "    <tr>\n",
       "      <th>0</th>\n",
       "      <td>24</td>\n",
       "      <td>1ROMAYO</td>\n",
       "      <td>31</td>\n",
       "      <td>AGUASCAL</td>\n",
       "      <td>1ROM-AGUA</td>\n",
       "      <td>01.__2021</td>\n",
       "      <td>1,480.00</td>\n",
       "      <td>0</td>\n",
       "      <td>0.03</td>\n",
       "    </tr>\n",
       "    <tr>\n",
       "      <th>1</th>\n",
       "      <td>24</td>\n",
       "      <td>1ROMAYO</td>\n",
       "      <td>31</td>\n",
       "      <td>AGUASCAL</td>\n",
       "      <td>1ROM-AGUA</td>\n",
       "      <td>02.__2022</td>\n",
       "      <td>0</td>\n",
       "      <td>0</td>\n",
       "      <td>0</td>\n",
       "    </tr>\n",
       "    <tr>\n",
       "      <th>2</th>\n",
       "      <td>24</td>\n",
       "      <td>1ROMAYO</td>\n",
       "      <td>31</td>\n",
       "      <td>AGUASCAL</td>\n",
       "      <td>1ROM-AGUA</td>\n",
       "      <td>03.__2023</td>\n",
       "      <td>0</td>\n",
       "      <td>0</td>\n",
       "      <td>0</td>\n",
       "    </tr>\n",
       "    <tr>\n",
       "      <th>3</th>\n",
       "      <td>24</td>\n",
       "      <td>1ROMAYO</td>\n",
       "      <td>31</td>\n",
       "      <td>AGUASCAL</td>\n",
       "      <td>1ROM-AGUA</td>\n",
       "      <td>04.__2024</td>\n",
       "      <td>224</td>\n",
       "      <td>2.06</td>\n",
       "      <td>262.8</td>\n",
       "    </tr>\n",
       "    <tr>\n",
       "      <th>4</th>\n",
       "      <td>24</td>\n",
       "      <td>1ROMAYO</td>\n",
       "      <td>31</td>\n",
       "      <td>AGUASCAL</td>\n",
       "      <td>1ROM-AGUA</td>\n",
       "      <td>05.__2025</td>\n",
       "      <td>0</td>\n",
       "      <td>0</td>\n",
       "      <td>0</td>\n",
       "    </tr>\n",
       "  </tbody>\n",
       "</table>\n",
       "</div>"
      ],
      "text/plain": [
       "   Num_env  Nom_env  Num_rec   Nom_rec     Enlace    Periodo       Cap  Real  \\\n",
       "0       24  1ROMAYO       31  AGUASCAL  1ROM-AGUA  01.__2021  1,480.00     0   \n",
       "1       24  1ROMAYO       31  AGUASCAL  1ROM-AGUA  02.__2022         0     0   \n",
       "2       24  1ROMAYO       31  AGUASCAL  1ROM-AGUA  03.__2023         0     0   \n",
       "3       24  1ROMAYO       31  AGUASCAL  1ROM-AGUA  04.__2024       224  2.06   \n",
       "4       24  1ROMAYO       31  AGUASCAL  1ROM-AGUA  05.__2025         0     0   \n",
       "\n",
       "     Img  \n",
       "0   0.03  \n",
       "1      0  \n",
       "2      0  \n",
       "3  262.8  \n",
       "4      0  "
      ]
     },
     "execution_count": 1,
     "metadata": {},
     "output_type": "execute_result"
    }
   ],
   "source": [
    "import pandas as pd\n",
    "url_d = \"https://raw.githubusercontent.com/optimizacion-2-2022-gh-classroom/practica-1-segunda-parte-LuzVerde23/main/BD/red.csv\"\n",
    "red = pd.read_csv(url_d)\n",
    "red.head()"
   ]
  },
  {
   "cell_type": "markdown",
   "id": "b83ca310-aa40-4f00-9cf2-de72e943bb87",
   "metadata": {},
   "source": [
    "La descripción de cada variable es la siguiente:\n",
    "\n",
    "> **Num_env** y **Nom_env:** Son los identificadores, número y nombre, respectivamente; del nodo o región de envío (de acuerdo al orden mostrado en la Figura 4.3.2),\n",
    "\n",
    "> **Num_env** y **Nom_env:** Son los identificadores, número y nombre, respectivamente; del nodo o región de recepción (de acuerdo al orden mostrado en la Figura 4.3.2),\n",
    "\n",
    "> **Enlace:** Concatenación o identificación corta del enlace formado entre el nodo de envío y el nodo de recepción,\n",
    "\n",
    "> **Periodo:** Identificación del año en el que el enlace se encontraría en operación. Cada enlace tiene 20 registros, uno por año, que van desde 2021 a 2041,\n",
    "\n",
    "> **Cap:** Capacidad de flujo máximo que puede transmitir el enlace. El primer periodo corresponde a la capacidad actual y en los años subsecuentes se informa de incrementos o decrementos, si es que los hay,\n",
    "\n",
    "> **Real:** Parte real de la impedancia eléctrica que tiene el enlace,\n",
    "\n",
    "> **Imag:** Parte imaginaria de la impedancia eléctrica que tiene el enlace.\n",
    "\n",
    "Esta base de datos se utiliza para hacer simulaciones en un programa de optimización más robusto, que evalua técnica y económicamente los Programas de Expansión de Generación y Transmisión (PEGyT), seleccionando de un abanico de alternativas (proyectos de infraestructura) las más eficientes en algún sentido: minimizar pérdidas de transmisión, reducción de emisiones de gases de efecto invernadero, maximización de ganancias en centrales eléctricas, entre otras. Así como respetando ciertas restricciones: cumplimiento de metas de generación renovable, política de confiabilidad (energía no suministrada y margen de reserva), operación dentro de los límites o capacidades de los enlaces, entre otras.\n",
    "\n",
    "El resultado de este modelo es un plan de expansión de la transmisión y la generación que cumple con los planteamientos mencionados. Por ello, para cada año se puede tener un incremento o decremento de capacidad en los enlaces, que obedecerían a lo que el programa determinó en ese plan de expansión del sistema. \n",
    "\n",
    "En nuestro ejercicio partiremos de la capacidad final que fue determinada por el PEGyT en el año horizonte (2041). Para ello habría que sumar a la capacidad actual (primer periodo) todas las adiciones y decrementos que se hayan presentado durante el de tiempo considerado en la planeación.\n",
    "\n",
    "Como se observa, la base de datos tiene algunas particularidades que hay que resolver poder utilizar el paquete `MaxFlowAeiu`. En este sentido, para estar en condiciones de resolver el problema de flujo máximo se requiere hacer cierto trabajo de limpieza en las variables y cambiar un poco la estructura de la base de datos original. Este procedimiento se puede consultar con mayor detalle en el reporte de la práctica 1 (parte 2, en la sección de [Lectura y limpieza de la Base de Datos](https://github.com/optimizacion-2-2022-gh-classroom/practica-1-segunda-parte-LuzVerde23/blob/main/reporte_equipo_2_parte_2_practica_1.ipynb)). \n",
    "\n",
    "El proceso de limpieza realizado se puede resumir en los siguientes pasos:\n",
    "\n",
    "+ Dar formato adecuado a las variables según corresponda (enteras, flotantes y caractér),\n",
    "+ Generar claves de los distintos enlaces para identificarlos,\n",
    "+ Sumar las capacidades de los distintos años para obtener un solo valor de capacidad por enlace,\n",
    "+ Identificar el sentido de flujo actual y verificar que corresponda con la suposición del comportamiento que se asumió,\n",
    "+ Recortar la parte de la red que corresponde al sistema sur (en el ejercicio solo interesa la transferencia del Norte al Centro del país),\n",
    "+ Crear la matrizde incidencias asegurando que el nodo fuente se identifica con el primer elemento de la base de datos y que el sumidero es el último.\n",
    "\n",
    "Después de hacer las manipulaciones descritas, obtenemos el siguiente resultado:"
   ]
  },
  {
   "cell_type": "code",
   "execution_count": 2,
   "id": "a57490bc",
   "metadata": {},
   "outputs": [
    {
     "data": {
      "text/html": [
       "<div>\n",
       "<style scoped>\n",
       "    .dataframe tbody tr th:only-of-type {\n",
       "        vertical-align: middle;\n",
       "    }\n",
       "\n",
       "    .dataframe tbody tr th {\n",
       "        vertical-align: top;\n",
       "    }\n",
       "\n",
       "    .dataframe thead th {\n",
       "        text-align: right;\n",
       "    }\n",
       "</style>\n",
       "<table border=\"1\" class=\"dataframe\">\n",
       "  <thead>\n",
       "    <tr style=\"text-align: right;\">\n",
       "      <th></th>\n",
       "      <th>1</th>\n",
       "      <th>2</th>\n",
       "      <th>3</th>\n",
       "      <th>4</th>\n",
       "      <th>5</th>\n",
       "      <th>6</th>\n",
       "      <th>7</th>\n",
       "      <th>8</th>\n",
       "      <th>9</th>\n",
       "      <th>10</th>\n",
       "      <th>...</th>\n",
       "      <th>35</th>\n",
       "      <th>36</th>\n",
       "      <th>37</th>\n",
       "      <th>38</th>\n",
       "      <th>39</th>\n",
       "      <th>40</th>\n",
       "      <th>41</th>\n",
       "      <th>42</th>\n",
       "      <th>43</th>\n",
       "      <th>44</th>\n",
       "    </tr>\n",
       "  </thead>\n",
       "  <tbody>\n",
       "    <tr>\n",
       "      <th>0</th>\n",
       "      <td>0</td>\n",
       "      <td>440</td>\n",
       "      <td>0</td>\n",
       "      <td>283</td>\n",
       "      <td>0</td>\n",
       "      <td>0</td>\n",
       "      <td>0</td>\n",
       "      <td>0</td>\n",
       "      <td>0</td>\n",
       "      <td>0</td>\n",
       "      <td>...</td>\n",
       "      <td>0</td>\n",
       "      <td>0</td>\n",
       "      <td>0</td>\n",
       "      <td>0.0</td>\n",
       "      <td>0</td>\n",
       "      <td>0</td>\n",
       "      <td>0</td>\n",
       "      <td>0</td>\n",
       "      <td>0</td>\n",
       "      <td>0</td>\n",
       "    </tr>\n",
       "    <tr>\n",
       "      <th>1</th>\n",
       "      <td>0</td>\n",
       "      <td>0</td>\n",
       "      <td>535</td>\n",
       "      <td>265</td>\n",
       "      <td>0</td>\n",
       "      <td>0</td>\n",
       "      <td>0</td>\n",
       "      <td>0</td>\n",
       "      <td>0</td>\n",
       "      <td>0</td>\n",
       "      <td>...</td>\n",
       "      <td>0</td>\n",
       "      <td>0</td>\n",
       "      <td>0</td>\n",
       "      <td>0.0</td>\n",
       "      <td>0</td>\n",
       "      <td>0</td>\n",
       "      <td>0</td>\n",
       "      <td>0</td>\n",
       "      <td>0</td>\n",
       "      <td>0</td>\n",
       "    </tr>\n",
       "    <tr>\n",
       "      <th>2</th>\n",
       "      <td>0</td>\n",
       "      <td>0</td>\n",
       "      <td>0</td>\n",
       "      <td>0</td>\n",
       "      <td>0</td>\n",
       "      <td>0</td>\n",
       "      <td>0</td>\n",
       "      <td>0</td>\n",
       "      <td>0</td>\n",
       "      <td>0</td>\n",
       "      <td>...</td>\n",
       "      <td>0</td>\n",
       "      <td>0</td>\n",
       "      <td>0</td>\n",
       "      <td>0.0</td>\n",
       "      <td>0</td>\n",
       "      <td>0</td>\n",
       "      <td>0</td>\n",
       "      <td>0</td>\n",
       "      <td>0</td>\n",
       "      <td>0</td>\n",
       "    </tr>\n",
       "    <tr>\n",
       "      <th>3</th>\n",
       "      <td>0</td>\n",
       "      <td>0</td>\n",
       "      <td>600</td>\n",
       "      <td>0</td>\n",
       "      <td>1200</td>\n",
       "      <td>0</td>\n",
       "      <td>0</td>\n",
       "      <td>0</td>\n",
       "      <td>0</td>\n",
       "      <td>0</td>\n",
       "      <td>...</td>\n",
       "      <td>0</td>\n",
       "      <td>0</td>\n",
       "      <td>0</td>\n",
       "      <td>0.0</td>\n",
       "      <td>0</td>\n",
       "      <td>0</td>\n",
       "      <td>0</td>\n",
       "      <td>0</td>\n",
       "      <td>0</td>\n",
       "      <td>0</td>\n",
       "    </tr>\n",
       "    <tr>\n",
       "      <th>4</th>\n",
       "      <td>0</td>\n",
       "      <td>0</td>\n",
       "      <td>0</td>\n",
       "      <td>0</td>\n",
       "      <td>0</td>\n",
       "      <td>1600</td>\n",
       "      <td>0</td>\n",
       "      <td>0</td>\n",
       "      <td>0</td>\n",
       "      <td>0</td>\n",
       "      <td>...</td>\n",
       "      <td>0</td>\n",
       "      <td>0</td>\n",
       "      <td>0</td>\n",
       "      <td>0.0</td>\n",
       "      <td>0</td>\n",
       "      <td>0</td>\n",
       "      <td>0</td>\n",
       "      <td>0</td>\n",
       "      <td>0</td>\n",
       "      <td>0</td>\n",
       "    </tr>\n",
       "  </tbody>\n",
       "</table>\n",
       "<p>5 rows × 44 columns</p>\n",
       "</div>"
      ],
      "text/plain": [
       "   1    2    3    4     5     6  7  8  9  10  ...  35  36  37   38  39  40  \\\n",
       "0  0  440    0  283     0     0  0  0  0   0  ...   0   0   0  0.0   0   0   \n",
       "1  0    0  535  265     0     0  0  0  0   0  ...   0   0   0  0.0   0   0   \n",
       "2  0    0    0    0     0     0  0  0  0   0  ...   0   0   0  0.0   0   0   \n",
       "3  0    0  600    0  1200     0  0  0  0   0  ...   0   0   0  0.0   0   0   \n",
       "4  0    0    0    0     0  1600  0  0  0   0  ...   0   0   0  0.0   0   0   \n",
       "\n",
       "   41  42  43  44  \n",
       "0   0   0   0   0  \n",
       "1   0   0   0   0  \n",
       "2   0   0   0   0  \n",
       "3   0   0   0   0  \n",
       "4   0   0   0   0  \n",
       "\n",
       "[5 rows x 44 columns]"
      ]
     },
     "execution_count": 2,
     "metadata": {},
     "output_type": "execute_result"
    }
   ],
   "source": [
    "url_d = \"https://raw.githubusercontent.com/optimizacion-2-2022-gh-classroom/practica-1-segunda-parte-LuzVerde23/main/BD/d_modificada.csv\"\n",
    "d = pd.read_csv(url_d)\n",
    "d.head()"
   ]
  },
  {
   "cell_type": "markdown",
   "id": "0f0245aa",
   "metadata": {},
   "source": [
    "Con el arreglo dispuesto de esta forma (matriz de incidencias) ya se puede mandar llamar a la librería `MaxFlowAeiu`, únicamente hay que convertir el _Data Frame_ de *Pandas* en un _Array_ tipo lista y pasarlo de argumento a la función _MaxFlowAeiu_:"
   ]
  },
  {
   "cell_type": "code",
   "execution_count": 3,
   "id": "c18d0be2",
   "metadata": {},
   "outputs": [
    {
     "name": "stdout",
     "output_type": "stream",
     "text": [
      "The maximum flow in this network is 723.0\n"
     ]
    }
   ],
   "source": [
    "from MaxFlowAeiu.MaxFlowAeiu import MaxFlowAeiu\n",
    "arreglo = d.values.tolist()\n",
    "MF=MaxFlowAeiu(arreglo)\n",
    "print(\"The maximum flow in this network is {}\".format(MF.ford_fulkerson()))"
   ]
  },
  {
   "cell_type": "markdown",
   "id": "b7c12cad-0133-4d97-85e8-d50aa0447700",
   "metadata": {},
   "source": [
    "Haciendo uso del paquete `MaxFlow_Aeiu` encontramos el flujo máximo de electricidad de la fuente: **x** al sumidero: **z**. El Flujo Máximo que se obtiene de esta solución es de 723, que de hecho corresponde a la suma de las capacidades de los dos enlaces que se tienen en el nodo fuente. Esto significa que es posible transmitir el máximo de capacidad que proveen los dos enlaces que salen de este nodo y que no existen limitantes en las líneas o arcos del resto de la red. Para identificar posibles cuellos de botella en el sentido que llevarían los flujos (convención), se podría incrementar de manera considerables (y ficticia) la capacidad de estos dos arcos para ver en cuál es el máximo flujo que se puede transmitir por esta red.\n",
    "\n",
    "En el siguiente resultado se muestra el flujo máximo resultante después de incrementar a 2,000 la capacidad de cada uno de las ramas que salen del nodo 1 (fuente)."
   ]
  },
  {
   "cell_type": "code",
   "execution_count": 4,
   "id": "6d7e005a-d674-44b5-b7a3-fb164ba1f668",
   "metadata": {},
   "outputs": [
    {
     "name": "stdout",
     "output_type": "stream",
     "text": [
      "The maximum flow in this network is 1480.0\n"
     ]
    }
   ],
   "source": [
    "d.iloc[0,3] = 2000\n",
    "d.iloc[0,1] = 2000\n",
    "arreglo = d.to_numpy()\n",
    "MF=MaxFlowAeiu(arreglo)\n",
    "print(\"The maximum flow in this network is {}\".format(MF.ford_fulkerson()))"
   ]
  },
  {
   "cell_type": "markdown",
   "id": "23fe662f-a22b-4f4f-8fcf-aea6152fee69",
   "metadata": {},
   "source": [
    "En este caso obtenemos el máximo flujo que puede ser transmitido desde el nodo 1, hasta el nodo 44 de la red del norte del país. Este valor representaría la máxima capacidad de generación que podría instalarse en este nodo del país (1,480), si solo se refuerza la transmisión que hay entre los nodos vecinos a este (2 y 4). Quiere decir que \"aguas abajo\" se encuentra alguna restricción de la red que no permitiría desahogar toda esa energía por la red. Por lo tanto, existen restricciones."
   ]
  },
  {
   "cell_type": "markdown",
   "id": "9321af2c-4e91-4f57-8012-cafe645aafab",
   "metadata": {},
   "source": [
    "#### Comprobación con paquetería oficial"
   ]
  },
  {
   "cell_type": "markdown",
   "id": "cfd835e7-1e0c-40ae-b8e2-4e1b9ad820e8",
   "metadata": {},
   "source": [
    "A continuación, comprobamos nuestros resultados con paqueterías como `networkx`y `scipy`."
   ]
  },
  {
   "cell_type": "code",
   "execution_count": 5,
   "id": "685d8bfa-a5b4-428c-bf7d-2c108275845c",
   "metadata": {},
   "outputs": [],
   "source": [
    "import matplotlib.pyplot as plt\n",
    "import networkx as nx\n",
    "from networkx.algorithms.flow import maximum_flow"
   ]
  },
  {
   "cell_type": "code",
   "execution_count": 6,
   "id": "35ca6d87-d411-4525-bb5f-824c79bc78f6",
   "metadata": {},
   "outputs": [
    {
     "data": {
      "image/png": "[encoded data removed]",
      "text/plain": [
       "<Figure size 432x288 with 1 Axes>"
      ]
     },
     "metadata": {},
     "output_type": "display_data"
    }
   ],
   "source": [
    "# Generamos el arreglo final de tipo \"numpy array\"\n",
    "arreglo = d.to_numpy()\n",
    "arreglo\n",
    "G = nx.from_numpy_matrix(arreglo, create_using=nx.DiGraph())\n",
    "G.edges(data=True)\n",
    "pos = nx.circular_layout(G)\n",
    "nx.draw_circular(G)\n",
    "labels = {i : i + 1 for i in G.nodes()}\n",
    "nx.draw_networkx_labels(G, pos, labels, font_size=10)\n",
    "plt.show()"
   ]
  },
  {
   "cell_type": "code",
   "execution_count": 7,
   "id": "ffa3dab3-d5c5-4778-9388-6403f39ad1d9",
   "metadata": {},
   "outputs": [
    {
     "data": {
      "text/plain": [
       "OutEdgeDataView([(0, 1, {'weight': 2000.0}), (0, 3, {'weight': 2000.0}), (1, 2, {'weight': 535.0}), (1, 3, {'weight': 265.0}), (2, 10, {'weight': 647.0}), (3, 2, {'weight': 600.0}), (3, 4, {'weight': 1200.0}), (4, 5, {'weight': 1600.0}), (5, 6, {'weight': 1450.0}), (6, 7, {'weight': 2575.0}), (7, 8, {'weight': 2070.0}), (8, 28, {'weight': 2015.0}), (9, 11, {'weight': 950.0}), (10, 11, {'weight': 600.0}), (11, 13, {'weight': 940.0}), (12, 13, {'weight': 500.0}), (13, 14, {'weight': 565.0}), (14, 16, {'weight': 280.0}), (15, 8, {'weight': 623.0}), (15, 30, {'weight': 319.0}), (16, 15, {'weight': 579.0}), (16, 22, {'weight': 500.0}), (17, 13, {'weight': 450.0}), (17, 18, {'weight': 400.0}), (17, 21, {'weight': 2100.0}), (18, 19, {'weight': 140.0}), (19, 20, {'weight': 1400.0}), (21, 19, {'weight': 3150.0}), (21, 22, {'weight': 2800.0}), (21, 27, {'weight': 1800.0}), (22, 23, {'weight': 1407.0}), (23, 30, {'weight': 1704.0}), (25, 24, {'weight': 1050.0}), (25, 26, {'weight': 1700.0}), (26, 37, {'weight': 1410.0}), (26, 43, {'weight': 1435.0}), (27, 25, {'weight': 2100.0}), (28, 29, {'weight': 2070.0}), (29, 30, {'weight': 1000.0}), (29, 33, {'weight': 700.0}), (29, 35, {'weight': 850.0}), (30, 31, {'weight': 1850.0}), (31, 33, {'weight': 1165.0}), (32, 24, {'weight': 1500.0}), (32, 30, {'weight': 1300.0}), (32, 36, {'weight': 490.0}), (33, 37, {'weight': 1600.0}), (34, 29, {'weight': 3000.0}), (35, 33, {'weight': 700.0}), (35, 38, {'weight': 1250.0}), (36, 37, {'weight': 1226.1}), (37, 41, {'weight': 1475.0}), (37, 43, {'weight': 500.0}), (39, 42, {'weight': 965.0}), (39, 43, {'weight': 1250.0}), (40, 38, {'weight': 2525.0}), (40, 39, {'weight': 1450.0}), (40, 43, {'weight': 50.0}), (41, 39, {'weight': 3700.0}), (41, 43, {'weight': 300.0}), (42, 40, {'weight': 650.0})])"
      ]
     },
     "execution_count": 7,
     "metadata": {},
     "output_type": "execute_result"
    }
   ],
   "source": [
    "G.edges(data=True)"
   ]
  },
  {
   "cell_type": "code",
   "execution_count": 8,
   "id": "721cb556-eb1f-4e73-82d2-daeebcbd97d6",
   "metadata": {},
   "outputs": [],
   "source": [
    "flow_value, flow_dict = nx.maximum_flow(G, 0, 43, capacity='weight')"
   ]
  },
  {
   "cell_type": "code",
   "execution_count": 9,
   "id": "817441d7-834e-43a8-a758-055e46c60d08",
   "metadata": {},
   "outputs": [
    {
     "data": {
      "text/plain": [
       "1480.0"
      ]
     },
     "execution_count": 9,
     "metadata": {},
     "output_type": "execute_result"
    }
   ],
   "source": [
    "flow_value"
   ]
  },
  {
   "cell_type": "code",
   "execution_count": 10,
   "id": "96e67f05-ac5f-4e84-9a89-12e02e3f998b",
   "metadata": {},
   "outputs": [
    {
     "data": {
      "text/plain": [
       "{0: {1: 265.0, 3: 1215.0},\n",
       " 1: {2: 0, 3: 265.0},\n",
       " 2: {10: 280.0},\n",
       " 3: {2: 280.0, 4: 1200.0},\n",
       " 4: {5: 1200.0},\n",
       " 5: {6: 1200.0},\n",
       " 6: {7: 1200.0},\n",
       " 7: {8: 1200.0},\n",
       " 8: {28: 1200.0},\n",
       " 9: {11: 0},\n",
       " 10: {11: 280.0},\n",
       " 11: {13: 280.0},\n",
       " 12: {13: 0},\n",
       " 13: {14: 280.0},\n",
       " 14: {16: 280.0},\n",
       " 15: {8: 0, 30: 280.0},\n",
       " 16: {15: 280.0, 22: 0},\n",
       " 17: {13: 0, 18: 0, 21: 0},\n",
       " 18: {19: 0},\n",
       " 19: {20: 0},\n",
       " 20: {},\n",
       " 21: {19: 0, 22: 0, 27: 0},\n",
       " 22: {23: 0},\n",
       " 23: {30: 0},\n",
       " 24: {},\n",
       " 25: {24: 0, 26: 0},\n",
       " 26: {37: 0, 43: 0},\n",
       " 27: {25: 0},\n",
       " 28: {29: 1200.0},\n",
       " 29: {30: 0, 33: 700.0, 35: 500.0},\n",
       " 30: {31: 280.0},\n",
       " 31: {33: 280.0},\n",
       " 32: {24: 0, 30: 0, 36: 0},\n",
       " 33: {37: 1480.0},\n",
       " 34: {29: 0},\n",
       " 35: {33: 500.0, 38: 0},\n",
       " 36: {37: 0},\n",
       " 37: {41: 980.0, 43: 500.0},\n",
       " 38: {},\n",
       " 39: {42: 0, 43: 680.0},\n",
       " 40: {38: 0, 39: 0, 43: 0},\n",
       " 41: {39: 680.0, 43: 300.0},\n",
       " 42: {40: 0},\n",
       " 43: {}}"
      ]
     },
     "execution_count": 10,
     "metadata": {},
     "output_type": "execute_result"
    }
   ],
   "source": [
    "flow_dict"
   ]
  },
  {
   "cell_type": "markdown",
   "id": "ef146cde-952f-4b9c-8580-d7ee2a86b56e",
   "metadata": {},
   "source": [
    "Veamos el mismo ejercicio pero usando `Scipy`"
   ]
  },
  {
   "cell_type": "code",
   "execution_count": 11,
   "id": "a2232711-b463-4303-a2cb-64963376a899",
   "metadata": {},
   "outputs": [],
   "source": [
    "# Scipy\n",
    "from scipy.sparse import csr_matrix\n",
    "from scipy.sparse.csgraph import maximum_flow\n"
   ]
  },
  {
   "cell_type": "markdown",
   "id": "f7cb0165-1e69-4a0c-b3d8-302c5f99f501",
   "metadata": {},
   "source": [
    "Para poder usar la función de flujo máximo de `scipy`, es necesario tener la matriz en formato _sparse_, una vez representada de esta manera, es sencillo encontrar el valor del fliujo máximo. Y este coincide con el obtenido por el software `networkx`."
   ]
  },
  {
   "cell_type": "code",
   "execution_count": 12,
   "id": "4dc44418-9a2f-43e8-856b-66536a49808e",
   "metadata": {},
   "outputs": [
    {
     "data": {
      "text/plain": [
       "1480"
      ]
     },
     "execution_count": 12,
     "metadata": {},
     "output_type": "execute_result"
    }
   ],
   "source": [
    "# Generamos el arreglo final de tipo \"numpy array\"\n",
    "arreglo = d.to_numpy()\n",
    "arreglo\n",
    "arreglo2=arreglo.astype(int)\n",
    "graph = csr_matrix(arreglo2)\n",
    "maximum_flow(graph, 0, 43).flow_value"
   ]
  },
  {
   "cell_type": "markdown",
   "id": "7426b5e9-1e11-435f-8f7b-2201487e37fd",
   "metadata": {},
   "source": [
    "También podemos visualizar flujo máximo con esta librería"
   ]
  },
  {
   "cell_type": "code",
   "execution_count": 13,
   "id": "8d5bd174-c5b4-42a0-9a79-a324873c4dc2",
   "metadata": {},
   "outputs": [
    {
     "name": "stdout",
     "output_type": "stream",
     "text": [
      "  (0, 1)\t280\n",
      "  (0, 3)\t1200\n",
      "  (1, 0)\t-280\n",
      "  (1, 2)\t280\n",
      "  (1, 3)\t0\n",
      "  (2, 1)\t-280\n",
      "  (2, 3)\t0\n",
      "  (2, 10)\t280\n",
      "  (3, 0)\t-1200\n",
      "  (3, 1)\t0\n",
      "  (3, 2)\t0\n",
      "  (3, 4)\t1200\n",
      "  (4, 3)\t-1200\n",
      "  (4, 5)\t1200\n",
      "  (5, 4)\t-1200\n",
      "  (5, 6)\t1200\n",
      "  (6, 5)\t-1200\n",
      "  (6, 7)\t1200\n",
      "  (7, 6)\t-1200\n",
      "  (7, 8)\t1200\n",
      "  (8, 7)\t-1200\n",
      "  (8, 15)\t0\n",
      "  (8, 28)\t1200\n",
      "  (9, 11)\t0\n",
      "  (10, 2)\t-280\n",
      "  :\t:\n",
      "  (37, 26)\t0\n",
      "  (37, 33)\t-1480\n",
      "  (37, 36)\t0\n",
      "  (37, 41)\t980\n",
      "  (37, 43)\t500\n",
      "  (38, 35)\t0\n",
      "  (38, 40)\t0\n",
      "  (39, 40)\t0\n",
      "  (39, 41)\t-680\n",
      "  (39, 42)\t0\n",
      "  (39, 43)\t680\n",
      "  (40, 38)\t0\n",
      "  (40, 39)\t0\n",
      "  (40, 42)\t0\n",
      "  (40, 43)\t0\n",
      "  (41, 37)\t-980\n",
      "  (41, 39)\t680\n",
      "  (41, 43)\t300\n",
      "  (42, 39)\t0\n",
      "  (42, 40)\t0\n",
      "  (43, 26)\t0\n",
      "  (43, 37)\t-500\n",
      "  (43, 39)\t-680\n",
      "  (43, 40)\t0\n",
      "  (43, 41)\t-300\n"
     ]
    }
   ],
   "source": [
    "G_res=maximum_flow(graph, 0, 43).residual\n",
    "print(G_res)"
   ]
  },
  {
   "cell_type": "markdown",
   "id": "6f6649a8",
   "metadata": {},
   "source": [
    "> **Nota para Uriel:**  Agregar en estas celdas lo que consideres para la sección de Pruebas y uso del algoritmo\n",
    "\n",
    "---"
   ]
  },
  {
   "cell_type": "markdown",
   "id": "4fe703c9-5e45-4bcc-a203-338193005dfa",
   "metadata": {},
   "source": [
    "## Documentación\n"
   ]
  },
  {
   "cell_type": "markdown",
   "id": "e2200259",
   "metadata": {},
   "source": [
    "El problema que se desarrolla es el Problema de Flujo Máximo el busca determinar el flujo máximo entre un nodo fuente y un nodo destino, los cuales están conectados a través de una red, con arcos que tienen capacidad finita.\n",
    "\n",
    "La documentación de nuestro paquete fue desarrolada en `sphinx` para ser visualizada en `github-pages` la cual puede ser visualizada aquí [MaxflowAeiu](https://optimizacion-2-2022-gh-classroom.github.io/practica-2-segunda-parte-EddOselotl/index.html). Aquí se puede consultar la instalación del paquete implementado así como la descripción y argumentos de cada una de las funciones que lo componen. Hasta el momento se encuentra desarrollada la versión `0.1.4`."
   ]
  },
  {
   "cell_type": "markdown",
   "id": "57283d95",
   "metadata": {},
   "source": [
    "# 3. Perfilamiento y Optimización\n",
    "\n",
    "Una parte importante de la implementación de algoritmos, aparte de verificar su efectividad (es decir, que resuelvan el problema de forma adecuada) consiste en asegurarnos que funcionan de forma eficiente, consumiendo los recursos mínimos necesarios para su ejecución. Para ello, en esta parte del reporte se presenta el resultado obtenido después de hacer el perfilamiento del código para darnos cuenta de las áreas de oportunidad donde podríamos actuar para mejorar el rendimiento del código para un mejor uso de las unidades de procesamiento y/o reducción en el consumo de la memoria."
   ]
  },
  {
   "cell_type": "markdown",
   "id": "af1a9972",
   "metadata": {},
   "source": [
    "### ¿Qué es el perfilamiento?\n",
    "\n",
    "El objetivo consiste en reimplementar nuestro método numérico realizado en la parte dos de la práctica 1 con niveles de BLAS, cómputo en paralelo (CPU/GPU), con compilación a C (por ejemplo vía cython, rcpp) o julia guiándose del perfilamiento de memoria, uso de procesador o tiempo de ejecución de su paquete. "
   ]
  },
  {
   "cell_type": "markdown",
   "id": "8309c1aa",
   "metadata": {},
   "source": [
    "### Perfilamiento del paquete `MaxFlowAeiu`\n",
    "\n",
    "Para el caso de nuestro paquete se realizaron dos tipos de perfilamiento:\n",
    "\n",
    "#### Perfilamiento: medición de tiempo en Python y IPython\n",
    "\n",
    "---\n",
    "\n",
    "Lo más natural que podemos pensar en medir es el tiempo de ejecución de nuestros códigos. Python y IPython tienen herramientas para este propósito.\n",
    "\n",
    "### Módulo: time\n",
    "\n",
    "--- \n",
    "\n",
    "### Comando de magic: `%time`\n",
    "\n",
    "--- \n",
    "\n",
    "Este comando nos regresa las mediciones siguientes:\n",
    "\n",
    "**CPU times** que contiene:\n",
    "\n",
    "* _user_ : mide la cantidad de tiempo de los statements que la CPU gastó para funciones que no están relacionadas con el kernel del sistema.\n",
    "\n",
    "* _sys_ : mide la cantidad de tiempo de los statements que la CPU gastó en funciones a nivel de kernel del sistema.\n",
    "\n",
    "* _total_ : suma entre el user y sys para todos todos los cores.\n",
    "\n",
    "**Wall time:** mide el wall clock o elapsed time que se refiere al tiempo desde que inicia la ejecución de los statements hasta su finalización.\n",
    "\n",
    "**Out:** resultado.\n",
    "\n",
    "### Timeit\n",
    "\n",
    "--- \n",
    "\n",
    "Se ejecuta desde la línea de comandos, con el comando de magic `%timeit` o realizando `import`.\n",
    "\n",
    "--- \n",
    "\n",
    "### **cProfile**\n",
    "\n",
    "---\n",
    "\n",
    "cProfile está en la standard-library de Python como built-in. Se utiliza con la implementación CPython de Python para medir el tiempo de ejecución de cada función en el programa. Se ejecuta desde la línea de comandos, con un comando de magic o realizando import.\n",
    "\n",
    "El output de cProfile muestra:\n",
    "\n",
    "* El tiempo **total** de ejecución, el cual incluye el tiempo del bloque de código que estamos midiendo y el overhead al usar cProfile. Por esta razón se tiene un mayor tiempo de ejecución que con las mediciones de tiempo anteriores.\n",
    "\n",
    "* La columna **ncalls** que como el nombre indica, muestra el número de veces que se llamó a cada función. En este caso las funciones lambda y math.exp son las que se llaman un mayor número de veces: $n=106$ veces.\n",
    "\n",
    "* La columna **tottime** muestra el tiempo que tardaron estas funciones en ejecutarse (sin llamar a otras funciones).\n",
    "\n",
    "* La columna **percall** es el cociente entre tottime y ncalls.\n",
    "\n",
    "* La columna **cumtime** contiene el tiempo gastado en la función y en las demás que llama. \n",
    "\n",
    "* La columna de **percall** es un cociente entre la columna cumtime y el conteo del número de veces que se llamaron a funciones primitivas o también nombradas built in functions.\n",
    "\n",
    "* La última columna indica información del _script_ de _python_ que se está ejecutando, la función y la línea en la que se encuentra dentro del código. \n",
    "\n",
    "En esta última observamos que la función que fue llamada más veces fue `append` al igual que `pop` con un total de 158 veces cada una, aunque de las que hicimos nosotros la más llamada es la de búsqueda de anchura con 6 llamadas y la que menos fue llamada fue `ford_fulkerson` la cual se encarga de obtener el flujo máximo de la red. Asimismo vemos el tiempo total que tardaron estas funciones en correr de forma independiente fueron 0.016 segundos para todas las funciones.\n",
    "\n",
    "--- \n",
    "\n",
    "#### Perfilamiento: medición de uso de memoria en Python\n",
    "\n",
    "Si bien las computadoras de hoy en día tienen una gran cantidad de RAM es importante que las aplicaciones no utilicen la totalidad pues en ese caso se tendrá una penalización en el performance de la aplicación al utilizar _virtual memory_.\n",
    "\n",
    "**memory_profiler**\n",
    "\n",
    "---\n",
    "\n",
    "Se ejecuta desde la línea de comandos, con un comando de magic o realizando _import_. Al instalar `memory_profiler` se incluyen dos comandos de magic: **%memit** y **%mprun**. Este último (**%mprun**) es similar a `line_profiler` al analizar línea por línea el uso de memoria.\n",
    "\n",
    "En el caso de import regresa una lista de valores de uso de memoria en MiB medidas cada cierto interval (argumento de **memory_usage**). En lo siguiente se pide que se regrese el máximo uso de memoria de la lista.\n",
    "\n",
    "Después de haber realizado estas evaluaciones y análisis del código, el siguiente paso es mejorar el tiempo de nuestro codigo, considerando que hicimos varios tipos de perfilamiento para ser evaluados. En este proceso observamos que sí hubo una mejora en el tiempo de ejecusion, pero que en contraste, se afecto de manera negativa en el conusmo de memoria, aunque consideramos que esto es mínimo.\n",
    "\n",
    "Para más detalle se puede consultar el notebook de [perfilamiento.ipynb](https://github.com/sancas96/Final_opt2/blob/main/Avances/avance_2/perfilamiento.ipynb) con el datelle de estas pruebas. "
   ]
  },
  {
   "cell_type": "markdown",
   "id": "15b11a99",
   "metadata": {},
   "source": [
    "### Reimplementación del paquete `MaxFlowAeiu` para su optimización\n",
    "\n"
   ]
  },
  {
   "cell_type": "markdown",
   "id": "9799c9fd-2099-4ddd-a57b-f242b6fadbee",
   "metadata": {},
   "source": [
    "# 4. Hardware utilizado y Reproducibilidad\n",
    "\n",
    "Una parte importante que se aprendió durante la realización de este proyecto es que la implementación del algoritmo que se realizó debe estar disponible para que otros puedan utilizarla, casi, sin importar que tipo de equipo de computo o sistema operativo posean, siempre y cuando cumplan o tengan acceso a ciertas herramientas que facilitan y permiten reproducir nuestros resultados."
   ]
  },
  {
   "cell_type": "markdown",
   "id": "e1a1ad18",
   "metadata": {},
   "source": [
    "## Contenedores de Docker\n",
    "\n",
    "Para la implementación de este proyecto se utilizaron contenedores de Docker, uno base que es [FROM palmoreck/kale_certs:0.6.1](https://github.com/palmoreck/dockerfiles/blob/master/jupyterlab/kale/general/certs/0.6.1/Dockerfile) que nos fue util para utilizar herramientas tanto kale como kubernetes, así como una imagen de docker que contuviera nuestro paquete [FROM sancas96/docker_t2](https://hub.docker.com/r/sancas96/docker_t2).\n",
    "\n",
    "Una vez desarrollado el paquete de manera básica utilizamos las herramientas de kale y minikube para correr varios experimentos y así detectar valores con los cuales falla nuestro paquete o posibles mejoras a realizar."
   ]
  },
  {
   "cell_type": "markdown",
   "id": "1d1d849b",
   "metadata": {},
   "source": [
    "## Binder\n",
    "\n"
   ]
  },
  {
   "cell_type": "markdown",
   "id": "9942f285",
   "metadata": {},
   "source": [
    "## AWS\n",
    "\n",
    "\n"
   ]
  },
  {
   "cell_type": "markdown",
   "id": "edb46102",
   "metadata": {},
   "source": []
  },
  {
   "cell_type": "markdown",
   "id": "ea9b4ffc",
   "metadata": {},
   "source": [
    "> **Nota para todes:**  Agregar en estas celdas lo que consideres para la sección de Hardware y Reproducibilidad\n",
    "\n",
    "---"
   ]
  },
  {
   "cell_type": "markdown",
   "id": "10bac2b8",
   "metadata": {},
   "source": [
    "# 5. Conclusiones "
   ]
  },
  {
   "cell_type": "markdown",
   "id": "a3c758ce",
   "metadata": {},
   "source": [
    "Edgar"
   ]
  },
  {
   "cell_type": "markdown",
   "id": "1feb32a8",
   "metadata": {},
   "source": [
    "La importancia de este trabajo, además de lograr mejorías de optimización del código del algoritmo original usando el lenguaje C, consistió en la aplicación del algoritmo de Ford-Fulkerson a un problema real, pues como se mencionó en el capítulo del uso del algoritmo, es un programa que ha sido evaluado técnica y económicamente por los Programas de Expansión de Generación y Transmisión (PEGyT). Al respecto, nos gustaría pensar que este tipo de métodos podrían ser parte del abanico de alternativas (proyectos de infraestructura) que se proponen normalmente, como son: minimizar pérdidas de transmisión, reducción de emisiones de gases de efecto invernadero, maximización de ganancias en centrales eléctricas, entre otras. Así como respetando ciertas restricciones: cumplimiento de metas de generación renovable, política de confiabilidad (energía no suministrada y margen de reserva), operación dentro de los límites o capacidades de los enlaces, entre otras."
   ]
  },
  {
   "cell_type": "markdown",
   "id": "f3b50b7b",
   "metadata": {},
   "source": [
    "Uriel"
   ]
  },
  {
   "cell_type": "markdown",
   "id": "cd53ea23",
   "metadata": {},
   "source": [
    "Ita\n",
    "\n",
    "Poder hacer uso de herramientas como Kale y Kubeflow para poder entender y eficientar nuestro código nos hace poder hacer experimentos de manera más fácil y controlada lo cual nos ayuda a tener más tiempo para pensar en posible usos y mejoras del problema de flujo máximo."
   ]
  },
  {
   "cell_type": "markdown",
   "id": "6aa27835",
   "metadata": {},
   "source": [
    "> **Nota para todes:**  Agregar en estas celdas lo que consideres una conclusión del trabajo realizado :)\n",
    "\n",
    "\n",
    "---"
   ]
  },
  {
   "cell_type": "markdown",
   "id": "f56d5fc7-250c-4cc2-ab47-5bb6299604a6",
   "metadata": {
    "tags": []
   },
   "source": [
    "# Referencias\n",
    "* [1] [Palacios E. (2022) Libro de Optimización](https://itam-ds.github.io/analisis-numerico-computo-cientifico/4.optimizacion_en_redes_y_prog_lineal/4.2/Definiciones_generales_de_flujo_en_redes.html)\n",
    "* [2] [Dumora c. el all. Data Oriented Algorithm for Real Time Estimation of Flow Rates and Flow Directions in Water Distribution Network](https://arxiv.org/pdf/1807.10147.pdf)\n",
    "* [3] [Max Flow Problem Introduction](https://www.geeksforgeeks.org/max-flow-problem-introduction/)\n",
    "* [4] [Ford-Fulkerson Algorithm](https://www.programiz.com/dsa/ford-fulkerson-algorithm)\n",
    "* [5] [Algoritmo de Ford-Fulkerson - Ford–Fulkerson algorithm](https://upwikies.top/wiki/Ford%e2%80%93Fulkerson_algorithm)\n",
    "* [6] [Oviedo J. (2008) Algoritmo de Ford-Fulkerson Mejorado](http://www.ptolomeo.unam.mx:8080/jspui/bitstream/132.248.52.100/2387/1/gonzalezoviedo.pdf)\n",
    "* [7] [Building a Smarter (and Cheaper) School Bus System: How a Boston-MIT Partnership Led to New Routes That Are 20% More Efficient and Saved the District $5 Million](https://www.the74million.org/article/building-a-smarter-and-cheaper-school-bus-system-how-a-boston-mit-partnership-led-to-new-routes-that-are-20-more-efficient-use-400-fewer-buses-save-5-million/)\n",
    "* [8] [Optimazation examples](https://vitalflux.com/convex-optimization-explained-concepts-examples/)\n",
    "* [9] [Breadth First Search or BFS for a Graph](https://www.geeksforgeeks.org/breadth-first-search-or-bfs-for-a-graph/)"
   ]
  }
 ],
 "metadata": {
  "interpreter": {
   "hash": "b0b9114ff97540c35f487fd8aeace44b1734c4192eb95ed5747a04256c3da9f8"
  },
  "kernelspec": {
   "display_name": "Python 3.9.7 ('tf-gpu')",
   "language": "python",
   "name": "python3"
  },
  "language_info": {
   "codemirror_mode": {
    "name": "ipython",
    "version": 3
   },
   "file_extension": ".py",
   "mimetype": "text/x-python",
   "name": "python",
   "nbconvert_exporter": "python",
   "pygments_lexer": "ipython3",
   "version": "3.9.7"
  }
 },
 "nbformat": 4,
 "nbformat_minor": 5
}
